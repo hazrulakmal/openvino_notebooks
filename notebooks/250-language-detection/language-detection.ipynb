{
 "cells": [
  {
   "cell_type": "markdown",
   "metadata": {},
   "source": [
    "- Prepare PyTorch model\n",
    "- Download and prepare dataset using Datasets\n",
    "- Validate original model\n",
    "- Convert PyTorch model to ONNX\n",
    "- Convert ONNX model to OpenVINO IR\n",
    "- Validate converted model\n",
    "- Prepare and run NNCF Postraining optimization pipeline\n",
    "- Compare accuracy of the FP32 and quantized models\n",
    "- Compare performance of the FP32 and quantized models"
   ]
  },
  {
   "cell_type": "code",
   "execution_count": null,
   "metadata": {},
   "outputs": [],
   "source": []
  }
 ],
 "metadata": {
  "kernelspec": {
   "display_name": "Python 3 (ipykernel)",
   "language": "python",
   "name": "python3"
  },
  "language_info": {
   "codemirror_mode": {
    "name": "ipython",
    "version": 3
   },
   "file_extension": ".py",
   "mimetype": "text/x-python",
   "name": "python",
   "nbconvert_exporter": "python",
   "pygments_lexer": "ipython3",
   "version": "3.9.0"
  },
  "vscode": {
   "interpreter": {
    "hash": "2d5841624127177e10e6afd7675a59c072e56b71a7496e66f52e435f0603956d"
   }
  }
 },
 "nbformat": 4,
 "nbformat_minor": 2
}
